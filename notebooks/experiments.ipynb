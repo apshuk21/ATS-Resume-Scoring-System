{
 "cells": [
  {
   "cell_type": "code",
   "execution_count": 21,
   "id": "c12a974c",
   "metadata": {},
   "outputs": [],
   "source": [
    "import json\n",
    "import sys\n",
    "from pathlib import Path"
   ]
  },
  {
   "cell_type": "code",
   "execution_count": 22,
   "id": "5793f9bb",
   "metadata": {},
   "outputs": [],
   "source": [
    "# Get the current notebook directory\n",
    "notebook_dir = Path.cwd()\n",
    "\n",
    "# Move up one level to the project root\n",
    "project_root = notebook_dir.parent"
   ]
  },
  {
   "cell_type": "code",
   "execution_count": 23,
   "id": "fbf81f19",
   "metadata": {},
   "outputs": [],
   "source": [
    "# Add it to sys.path if not already present\n",
    "if str(project_root) not in sys.path:\n",
    "    sys.path.append(str(project_root))"
   ]
  },
  {
   "cell_type": "code",
   "execution_count": 26,
   "id": "f9a0d506",
   "metadata": {},
   "outputs": [],
   "source": [
    "from models.visualization_payload_schema import VisualizationPayloadSchema"
   ]
  },
  {
   "cell_type": "code",
   "execution_count": 28,
   "id": "6306812c",
   "metadata": {},
   "outputs": [
    {
     "name": "stdout",
     "output_type": "stream",
     "text": [
      "{\n",
      "  \"$defs\": {\n",
      "    \"ChartData\": {\n",
      "      \"properties\": {\n",
      "        \"type\": {\n",
      "          \"description\": \"Type of chart\",\n",
      "          \"enum\": [\n",
      "            \"bar\",\n",
      "            \"pie\",\n",
      "            \"gauge\",\n",
      "            \"radar\"\n",
      "          ],\n",
      "          \"title\": \"Type\",\n",
      "          \"type\": \"string\"\n",
      "        },\n",
      "        \"title\": {\n",
      "          \"description\": \"Chart title\",\n",
      "          \"title\": \"Title\",\n",
      "          \"type\": \"string\"\n",
      "        },\n",
      "        \"labels\": {\n",
      "          \"description\": \"Labels for chart axes or segments\",\n",
      "          \"items\": {\n",
      "            \"type\": \"string\"\n",
      "          },\n",
      "          \"title\": \"Labels\",\n",
      "          \"type\": \"array\"\n",
      "        },\n",
      "        \"values\": {\n",
      "          \"description\": \"Numerical values corresponding to labels\",\n",
      "          \"items\": {\n",
      "            \"type\": \"number\"\n",
      "          },\n",
      "          \"title\": \"Values\",\n",
      "          \"type\": \"array\"\n",
      "        },\n",
      "        \"metadata\": {\n",
      "          \"anyOf\": [\n",
      "            {\n",
      "              \"additionalProperties\": {\n",
      "                \"type\": \"string\"\n",
      "              },\n",
      "              \"type\": \"object\"\n",
      "            },\n",
      "            {\n",
      "              \"type\": \"null\"\n",
      "            }\n",
      "          ],\n",
      "          \"description\": \"Optional metadata like units, colors, or notes\",\n",
      "          \"title\": \"Metadata\"\n",
      "        }\n",
      "      },\n",
      "      \"required\": [\n",
      "        \"type\",\n",
      "        \"title\",\n",
      "        \"labels\",\n",
      "        \"values\"\n",
      "      ],\n",
      "      \"title\": \"ChartData\",\n",
      "      \"type\": \"object\"\n",
      "    }\n",
      "  },\n",
      "  \"properties\": {\n",
      "    \"charts\": {\n",
      "      \"additionalProperties\": {\n",
      "        \"$ref\": \"#/$defs/ChartData\"\n",
      "      },\n",
      "      \"description\": \"Dictionary of chart identifiers mapped to chart data\",\n",
      "      \"title\": \"Charts\",\n",
      "      \"type\": \"object\"\n",
      "    },\n",
      "    \"summary_text\": {\n",
      "      \"description\": \"Narrative summary of resume performance\",\n",
      "      \"title\": \"Summary Text\",\n",
      "      \"type\": \"string\"\n",
      "    },\n",
      "    \"improvement_highlights\": {\n",
      "      \"description\": \"Key suggestions extracted from improvement agent\",\n",
      "      \"items\": {\n",
      "        \"type\": \"string\"\n",
      "      },\n",
      "      \"title\": \"Improvement Highlights\",\n",
      "      \"type\": \"array\"\n",
      "    },\n",
      "    \"timestamp\": {\n",
      "      \"description\": \"Timestamp of visualization generation\",\n",
      "      \"title\": \"Timestamp\",\n",
      "      \"type\": \"string\"\n",
      "    }\n",
      "  },\n",
      "  \"required\": [\n",
      "    \"charts\",\n",
      "    \"summary_text\",\n",
      "    \"improvement_highlights\",\n",
      "    \"timestamp\"\n",
      "  ],\n",
      "  \"title\": \"VisualizationPayloadSchema\",\n",
      "  \"type\": \"object\"\n",
      "}\n"
     ]
    }
   ],
   "source": [
    "sch = VisualizationPayloadSchema.model_json_schema()\n",
    "print(json.dumps(sch, indent=2)[:4000])"
   ]
  },
  {
   "cell_type": "markdown",
   "id": "c46d277f",
   "metadata": {},
   "source": [
    "messages=[\n",
    "    TextMessage(id='bd507251-906c-4625-8992-9c16b23188f4', source='user', models_usage=None, metadata={}, created_at=datetime.datetime(2025, 8, 15, 11, 55, 15, 468912, tzinfo=datetime.timezone.utc), content=\"{'resume': 'Apoorva Shukla\\\\n+91-9151091004\\\\nLinkedin\\\\napshuk21@gmail.com\\\\nSkills\\\\n• Frontend Development, CSS, HTML, JavaScript, React, NodeJS\\\\nExperience\\\\nSoftware Development Engineer (Frontend)\\\\nDec 2022 - Present\\\\nOsttra\\\\nArchitected and delivered scalable, reusable UI applications across multiple domains, ensuring long-term\\\\nmaintainability and performance optimization.\\\\nLed the adoption of MonoRepo and Microfrontend strategies, enabling modular development, faster\\\\nonboarding, and streamlined CI/CD workflows.\\\\nDeveloped high-performance, data-intensive financial dashboards using React, driving a 30% increase in\\\\nuser engagement.\\\\nEngineered real-time UI experiences through complex web-socket integrations alongside RESTful services,\\\\nenhancing responsiveness and data fidelity.\\\\nIntegrated Google Analytics and Google Tag Manager to improve user tracking accuracy by 25%, enabling\\\\nactionable insights for product teams.\\\\nPlayed a key role in migrating legacy monolithic applications to a multi-tier architecture, reducing system\\\\ndowntime by 40% and improving scalability.\\\\nOwned and maintained a centralized UI components library, reducing duplication and accelerating\\\\ndevelopment velocity by 20%.\\\\nConducted interviews and contributed to hiring strategy for frontend roles, helping build a high-performing\\\\nteam that improved delivery timelines by 15%.\\\\nContributed to the migration of multiple UI projects into a unified MonoRepo, improving code reuse and\\\\ndependency management.\\\\nMentored junior developers, fostering a culture of clean code, design thinking, and continuous learning.\\\\nSoftware Development Engineer (Frontend)\\\\nJan 2020 - Dec 2022\\\\npublicis sapient\\\\nDeveloped the Dashboard and Search modules for the E-Commerce project, significantly enhancing user\\\\nexperience and engagement metrics.\\\\nImproved non-functional requirements, achieving a 30% increase in accessibility scores and a 25% boost in\\\\noverall application performance.\\\\nOptimized Dashboard performance by implementing image lazy loading and reducing bundle size, resulting\\\\nin a 40% decrease in load times.\\\\nEngineered an accessible search typeahead component using debouncing, increasing search efficiency by\\\\n20% and improving user satisfaction.\\\\nIntegrated a Content Management System with the E-Commerce project, streamlining content updates and\\\\nreducing management time by 15%.\\\\nSoftware Development Engineer (Frontend)\\\\nAug 2018 - Jan 2020\\\\nCognizant\\\\nDesigned and implemented UI widgets for the commodity exchange project, improving user engagement by\\\\n25%.\\\\nSoftware Development Engineer (Frontend)\\\\nMay 2017 - Aug 2018\\\\nMindtree\\\\nEngineered UI widgets for a media and entertainment domain project, improving user engagement by 30%.\\\\nTransformed the user interface of a legacy project into a modern, responsive application, enhancing\\\\nusability and reducing load times by 25%.\\\\nSoftware Development Engineer (Frontend)\\\\nDec 2016 - Apr 2017\\\\n\\\\nE-Team Solutions\\\\nEngineered jQuery-based UI widgets for an Aviation project, improving user engagement by 30%.\\\\nFrontend Engineer\\\\nJun 2014 - Dec 2016\\\\nFree Bird Info Solutions\\\\nEngineered WordPress applications for health domain projects, improving user engagement by 30%\\\\nthrough enhanced functionality.\\\\nAchievements\\\\nTeam Excellence Award — Recognized for outstanding contributions to cross-functional collaboration,\\\\narchitectural leadership, and delivery of scalable UI solutions.\\\\nEducation\\\\nScaler\\\\n2023\\\\nSpecialized in Software Development & Problem Solving\\\\nHindustan College Of Science Technology Mathura\\\\n2009\\\\nBE/B.Tech/BS\\\\n', 'job_description': 'Job Title: Senior Frontend Engineer\\\\r\\\\nLocation: Gurugram, India (Hybrid)\\\\r\\\\nEmployment Type: Full-Time\\\\r\\\\nExperience Required: 5+ years\\\\r\\\\n\\\\r\\\\nKey Responsibilities:\\\\r\\\\n- Develop and maintain scalable frontend applications using React and TypeScript\\\\r\\\\n- Implement responsive UI designs with HTML, CSS, and modern styling frameworks\\\\r\\\\n- Optimize web performance and ensure cross-browser compatibility\\\\r\\\\n- Integrate RESTful APIs and GraphQL endpoints\\\\r\\\\n- Conduct code reviews and mentor junior developers\\\\r\\\\n- Collaborate with product, design, and backend teams\\\\r\\\\n- Ensure accessibility and maintain high code quality standards\\\\r\\\\n- Write unit and end-to-end tests using Jest and Cypress\\\\r\\\\n\\\\r\\\\nRequired Skills:\\\\r\\\\n- JavaScript, TypeScript, React, Next.js\\\\r\\\\n- HTML5, CSS3, Tailwind CSS or Styled Components\\\\r\\\\n- Redux, Zustand, React Query\\\\r\\\\n- REST APIs, GraphQL\\\\r\\\\n- Testing frameworks: Jest, Cypress\\\\r\\\\n- Git, CI/CD tools\\\\r\\\\n- Strong problem-solving and communication skills\\\\r\\\\n\\\\r\\\\nPreferred Skills:\\\\r\\\\n- Experience with design systems and component libraries\\\\r\\\\n- Knowledge of server-side rendering and static site generation\\\\r\\\\n- Familiarity with Node.js and Express\\\\r\\\\n- Open-source contributions or technical writing\\\\r\\\\n\\\\r\\\\nBenefits:\\\\r\\\\n- Competitive salary and bonuses\\\\r\\\\n- Flexible work hours and hybrid model\\\\r\\\\n- Health insurance and wellness programs\\\\r\\\\n- Learning and development support\\\\r\\\\n- Inclusive and collaborative team culture'}\", type='TextMessage'), TextMessage(id='e2940552-b2c6-430d-b3fd-1ddc51f87c3a', source='Input_Router_Agent', models_usage=RequestUsage(prompt_tokens=1123, completion_tokens=15), metadata={}, created_at=datetime.datetime(2025, 8, 15, 11, 55, 17, 268725, tzinfo=datetime.timezone.utc), content='Forwarding resume to ResumeProcessingAgent and job description to JobDescriptionAgent.', type='TextMessage'), \n",
    "    \n",
    "    StructuredMessage[JobDescriptionSchema](id='01461ca4-aa95-4938-a469-fe984893a6af', source='Job_Description_Agent', models_usage=RequestUsage(prompt_tokens=1412, completion_tokens=580), metadata={}, created_at=datetime.datetime(2025, 8, 15, 11, 55, 21, 111078, tzinfo=datetime.timezone.utc), content=JobDescriptionSchema(job_title='Senior Frontend Engineer', location='Gurugram, India (Hybrid)', employment_type='Full-Time', required_experience_years=5, required_skills=['JavaScript', 'TypeScript', 'React', 'Next.js', 'HTML5', 'CSS3', 'Tailwind CSS or Styled Components', 'Redux', 'Zustand', 'React Query', 'REST APIs', 'GraphQL', 'Jest', 'Cypress', 'Git', 'CI/CD tools', 'Strong problem-solving and communication skills'], preferred_skills=['Experience with design systems and component libraries', 'Knowledge of server-side rendering and static site generation', 'Familiarity with Node.js and Express', 'Open-source contributions or technical writing'], education_level='', responsibilities=['Develop and maintain scalable frontend applications using React and TypeScript', 'Implement responsive UI designs with HTML, CSS, and modern styling frameworks', 'Optimize web performance and ensure cross-browser compatibility', 'Integrate RESTful APIs and GraphQL endpoints', 'Conduct code reviews and mentor junior developers', 'Collaborate with product, design, and backend teams', 'Ensure accessibility and maintain high code quality standards', 'Write unit and end-to-end tests using Jest and Cypress'], benefits=['Competitive salary and bonuses', 'Flexible work hours and hybrid model', 'Health insurance and wellness programs', 'Learning and development support', 'Inclusive and collaborative team culture'], raw_text='Job Title: Senior Frontend Engineer\\r\\nLocation: Gurugram, India (Hybrid)\\r\\nEmployment Type: Full-Time\\r\\nExperience Required: 5+ years\\r\\n\\r\\nKey Responsibilities:\\r\\n- Develop and maintain scalable frontend applications using React and TypeScript\\r\\n- Implement responsive UI designs with HTML, CSS, and modern styling frameworks\\r\\n- Optimize web performance and ensure cross-browser compatibility\\r\\n- Integrate RESTful APIs and GraphQL endpoints\\r\\n- Conduct code reviews and mentor junior developers\\r\\n- Collaborate with product, design, and backend teams\\r\\n- Ensure accessibility and maintain high code quality standards\\r\\n- Write unit and end-to-end tests using Jest and Cypress\\r\\n\\r\\nRequired Skills:\\r\\n- JavaScript, TypeScript, React, Next.js\\r\\n- HTML5, CSS3, Tailwind CSS or Styled Components\\r\\n- Redux, Zustand, React Query\\r\\n- REST APIs, GraphQL\\r\\n- Testing frameworks: Jest, Cypress\\r\\n- Git, CI/CD tools\\r\\n- Strong problem-solving and communication skills\\r\\n\\r\\nPreferred Skills:\\r\\n- Experience with design systems and component libraries\\r\\n- Knowledge of server-side rendering and static site generation\\r\\n- Familiarity with Node.js and Express\\r\\n- Open-source contributions or technical writing\\r\\n\\r\\nBenefits:\\r\\n- Competitive salary and bonuses\\r\\n- Flexible work hours and hybrid model\\r\\n- Health insurance and wellness programs\\r\\n- Learning and development support\\r\\n- Inclusive and collaborative team culture'), format_string=None, type='StructuredMessage[JobDescriptionSchema]'), \n",
    "    \n",
    "    StructuredMessage[ResumeSchema](id='ec49bb9a-32b3-43f2-ae28-6f1e6529a424', source='Resume_Processing_Agent', models_usage=RequestUsage(prompt_tokens=1904, completion_tokens=760), metadata={}, created_at=datetime.datetime(2025, 8, 15, 11, 55, 23, 594874, tzinfo=datetime.timezone.utc), content=ResumeSchema(name='Apoorva Shukla', email='apshuk21@gmail.com', phone='+91-9151091004', summary='', skills=['Frontend Development', 'CSS', 'HTML', 'JavaScript', 'React', 'NodeJS'], experience=[Experience(title='Software Development Engineer (Frontend)', company='Osttra', duration_years=1.0, description='Architected and delivered scalable, reusable UI applications across multiple domains, ensuring long-term maintainability and performance optimization. Led the adoption of MonoRepo and Microfrontend strategies, enabling modular development, faster onboarding, and streamlined CI/CD workflows. Developed high-performance, data-intensive financial dashboards using React, driving a 30% increase in user engagement. Engineered real-time UI experiences through complex web-socket integrations alongside RESTful services, enhancing responsiveness and data fidelity. Integrated Google Analytics and Google Tag Manager to improve user tracking accuracy by 25%, enabling actionable insights for product teams. Played a key role in migrating legacy monolithic applications to a multi-tier architecture, reducing system downtime by 40% and improving scalability. Owned and maintained a centralized UI components library, reducing duplication and accelerating development velocity by 20%. Conducted interviews and contributed to hiring strategy for frontend roles, helping build a high-performing team that improved delivery timelines by 15%. Contributed to the migration of multiple UI projects into a unified MonoRepo, improving code reuse and dependency management. Mentored junior developers, fostering a culture of clean code, design thinking, and continuous learning.'), Experience(title='Software Development Engineer (Frontend)', company='publicis sapient', duration_years=3.0, description='Developed the Dashboard and Search modules for the E-Commerce project, significantly enhancing user experience and engagement metrics. Improved non-functional requirements, achieving a 30% increase in accessibility scores and a 25% boost in overall application performance. Optimized Dashboard performance by implementing image lazy loading and reducing bundle size, resulting in a 40% decrease in load times. Engineered an accessible search typeahead component using debouncing, increasing search efficiency by 20% and improving user satisfaction. Integrated a Content Management System with the E-Commerce project, streamlining content updates and reducing management time by 15%.'), Experience(title='Software Development Engineer (Frontend)', company='Cognizant', duration_years=1.5, description='Designed and implemented UI widgets for the commodity exchange project, improving user engagement by 25%.'), Experience(title='Software Development Engineer (Frontend)', company='Mindtree', duration_years=1.25, description='Engineered UI widgets for a media and entertainment domain project, improving user engagement by 30%. Transformed the user interface of a legacy project into a modern, responsive application, enhancing usability and reducing load times by 25%.'), Experience(title='Software Development Engineer (Frontend)', company='E-Team Solutions', duration_years=0.5, description='Engineered jQuery-based UI widgets for an Aviation project, improving user engagement by 30%.'), Experience(title='Frontend Engineer', company='Free Bird Info Solutions', duration_years=2.5, description='Engineered WordPress applications for health domain projects, improving user engagement by 30% through enhanced functionality.')], education=[Education(degree='Specialized in Software Development & Problem Solving', field='Software Development', institution='Scaler', year=2023), Education(degree='BE/B.Tech/BS', field='', institution='Hindustan College Of Science Technology Mathura', year=2009)], certifications=None, format_quality=FormatQuality(has_bullet_points=True, has_section_headings=True, readability_score=0.8), file_metadata=FileMetadata(filename='resume.pdf', filetype='pdf', filesize_kb=250)), format_string=None, type='StructuredMessage[ResumeSchema]'), \n",
    "    \n",
    "    StructuredMessage[ScoreReportSchema](id='494684f8-ae7b-40e5-b1a4-e477ba2da4b8', source='Scoring_Agent', models_usage=RequestUsage(prompt_tokens=3383, completion_tokens=229), metadata={}, created_at=datetime.datetime(2025, 8, 15, 11, 55, 31, 714623, tzinfo=datetime.timezone.utc), content=ScoreReportSchema(total_score=78, confidence=0.9, score_breakdown=ScoreBreakdown(skills_match=SkillsMatch(score=60, max_score=100, matched_skills=['JavaScript', 'React', 'HTML', 'CSS', 'NodeJS'], missing_skills=['TypeScript', 'Next.js', 'Tailwind CSS or Styled Components', 'Redux', 'Zustand', 'React Query', 'GraphQL', 'Jest', 'Cypress', 'Git']), experience_relevance=ExperienceRelevance(score=90, max_score=100, matched_years=9.75, required_years=5.0), education_alignment=EducationAlignment(score=70, max_score=100, match=True), format_and_structure=FormatAndStructure(score=80, max_score=100, issues=['No mention of TypeScript', 'No indication of testing frameworks like Jest or Cypress']), keyword_optimization=KeywordOptimization(score=70, max_score=100, missing_keywords=['TypeScript', 'Next.js', 'GraphQL', 'Tailwind CSS', 'Styled Components', 'Jest', 'Cypress'])), benchmark_comparison=BenchmarkComparison(percentile=85, industry_average_score=75), timestamp='2023-10-17T12:45:00Z'), format_string=None, type='StructuredMessage[ScoreReportSchema]'), \n",
    "    \n",
    "    StructuredMessage[ImprovementReportSchema](id='4a3988d4-5ba0-4445-972b-dd33c71f0461', source='Improvement_Agent', models_usage=RequestUsage(prompt_tokens=3008, completion_tokens=287), metadata={}, created_at=datetime.datetime(2025, 8, 15, 11, 55, 38, 292150, tzinfo=datetime.timezone.utc), content=ImprovementReportSchema(suggestions=[ImprovementSuggestion(section='Skills', suggestion='Add more relevant skills such as TypeScript, Next.js, Tailwind CSS or Styled Components, Redux, Zustand, and React Query to match the job description requirements.', priority='High'), ImprovementSuggestion(section='Experience', suggestion='Include any experience or projects involving the use of testing frameworks like Jest or Cypress, as well as integrating REST APIs and GraphQL endpoints.', priority='High'), ImprovementSuggestion(section='Education', suggestion='Highlight relevant coursework or certifications that align with the advanced frontend skills required by the job description.', priority='Medium'), ImprovementSuggestion(section='Overall Content', suggestion='Draft a concise \"Summary\" section at the beginning to provide an overview of your expertise and career highlights.', priority='Medium')], keywords_to_add=['TypeScript', 'Next.js', 'GraphQL', 'Tailwind CSS', 'Styled Components', 'Jest', 'Cypress', 'Redux', 'Zustand', 'React Query', 'Git', 'CI/CD', 'Testing frameworks'], formatting_issues=['Ensure that each experience entry clearly quantifies achievements and impacts.', 'Use consistent formatting for company names and job titles.'], overall_commentary='The resume is quite strong in terms of experience relevance and matches well with the experience requirement. However, there are several high-impact areas for improvement, particularly in aligning skills with the job description, adding a summary section for a better first impression, and ensuring the use of relevant keywords for better ATS optimization.'), format_string=None, type='StructuredMessage[ImprovementReportSchema]'), \n",
    "    \n",
    "    StructuredMessage[VisualizationPayloadSchema](id='0ec6a018-d584-4d79-836a-2cdbd062edc4', source='Visualization_Agent', models_usage=RequestUsage(prompt_tokens=3541, completion_tokens=380), metadata={}, created_at=datetime.datetime(2025, 8, 15, 11, 55, 48, 300262, tzinfo=datetime.timezone.utc), content=VisualizationPayloadSchema(charts={'skills_match': ChartData(type='radar', title='Skills Match Analysis', labels=['JavaScript', 'React', 'HTML', 'CSS', 'NodeJS', 'TypeScript', 'Next.js', 'Tailwind CSS/Styled Components', 'Redux', 'Zustand', 'React Query', 'GraphQL', 'Jest', 'Cypress', 'Git'], values=[1.0, 1.0, 1.0, 1.0, 1.0, 0.0, 0.0, 0.0, 0.0, 0.0, 0.0, 0.0, 0.0, 0.0, 0.0], metadata=None), 'experience_relevance': ChartData(type='gauge', title='Experience Relevance', labels=['Matched Years'], values=[9.75], metadata={'range_max': '10'}), 'score_breakdown': ChartData(type='pie', title='Score Breakdown', labels=['Skills Match', 'Experience Relevance', 'Education Alignment', 'Format and Structure', 'Keyword Optimization'], values=[60.0, 90.0, 70.0, 80.0, 70.0], metadata=None)}, summary_text=\"Apoorva Shukla has a strong background in software development with relevant experience of 9.75 years, significantly surpassing the required 5 years for the Senior Frontend Engineer role. With core competencies in JavaScript and React, the candidate's experience is well aligned to the demands of modern UI development. However, skill enhancements in TypeScript, testing frameworks, and integration of cutting-edge frontend technologies will strengthen the overall candidacy and meet job requirements more closely.\", improvement_highlights=['Add more relevant skills such as TypeScript, Next.js, Tailwind CSS or Styled Components, Redux, Zustand, and React Query.', 'Include any experience or projects involving the use of testing frameworks like Jest or Cypress.', 'Highlight relevant coursework or certifications that align with the advanced frontend skills.', \"Draft a concise 'Summary' section at the beginning to provide an overview of your expertise.\"], timestamp=datetime.datetime(2023, 10, 17, 12, 45, tzinfo=TzInfo(UTC))), format_string=None, type='StructuredMessage[VisualizationPayloadSchema]')] \n",
    "    \n",
    "    stop_reason='Digraph execution is complete'"
   ]
  }
 ],
 "metadata": {
  "kernelspec": {
   "display_name": "Python 3",
   "language": "python",
   "name": "python3"
  },
  "language_info": {
   "codemirror_mode": {
    "name": "ipython",
    "version": 3
   },
   "file_extension": ".py",
   "mimetype": "text/x-python",
   "name": "python",
   "nbconvert_exporter": "python",
   "pygments_lexer": "ipython3",
   "version": "3.12.11"
  }
 },
 "nbformat": 4,
 "nbformat_minor": 5
}
