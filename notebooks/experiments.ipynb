{
 "cells": [
  {
   "cell_type": "code",
   "execution_count": 21,
   "id": "c12a974c",
   "metadata": {},
   "outputs": [],
   "source": [
    "import json\n",
    "import sys\n",
    "from pathlib import Path"
   ]
  },
  {
   "cell_type": "code",
   "execution_count": 22,
   "id": "5793f9bb",
   "metadata": {},
   "outputs": [],
   "source": [
    "# Get the current notebook directory\n",
    "notebook_dir = Path.cwd()\n",
    "\n",
    "# Move up one level to the project root\n",
    "project_root = notebook_dir.parent"
   ]
  },
  {
   "cell_type": "code",
   "execution_count": 23,
   "id": "fbf81f19",
   "metadata": {},
   "outputs": [],
   "source": [
    "# Add it to sys.path if not already present\n",
    "if str(project_root) not in sys.path:\n",
    "    sys.path.append(str(project_root))"
   ]
  },
  {
   "cell_type": "code",
   "execution_count": 26,
   "id": "f9a0d506",
   "metadata": {},
   "outputs": [],
   "source": [
    "from models.visualization_payload_schema import VisualizationPayloadSchema"
   ]
  },
  {
   "cell_type": "code",
   "execution_count": 28,
   "id": "6306812c",
   "metadata": {},
   "outputs": [
    {
     "name": "stdout",
     "output_type": "stream",
     "text": [
      "{\n",
      "  \"$defs\": {\n",
      "    \"ChartData\": {\n",
      "      \"properties\": {\n",
      "        \"type\": {\n",
      "          \"description\": \"Type of chart\",\n",
      "          \"enum\": [\n",
      "            \"bar\",\n",
      "            \"pie\",\n",
      "            \"gauge\",\n",
      "            \"radar\"\n",
      "          ],\n",
      "          \"title\": \"Type\",\n",
      "          \"type\": \"string\"\n",
      "        },\n",
      "        \"title\": {\n",
      "          \"description\": \"Chart title\",\n",
      "          \"title\": \"Title\",\n",
      "          \"type\": \"string\"\n",
      "        },\n",
      "        \"labels\": {\n",
      "          \"description\": \"Labels for chart axes or segments\",\n",
      "          \"items\": {\n",
      "            \"type\": \"string\"\n",
      "          },\n",
      "          \"title\": \"Labels\",\n",
      "          \"type\": \"array\"\n",
      "        },\n",
      "        \"values\": {\n",
      "          \"description\": \"Numerical values corresponding to labels\",\n",
      "          \"items\": {\n",
      "            \"type\": \"number\"\n",
      "          },\n",
      "          \"title\": \"Values\",\n",
      "          \"type\": \"array\"\n",
      "        },\n",
      "        \"metadata\": {\n",
      "          \"anyOf\": [\n",
      "            {\n",
      "              \"additionalProperties\": {\n",
      "                \"type\": \"string\"\n",
      "              },\n",
      "              \"type\": \"object\"\n",
      "            },\n",
      "            {\n",
      "              \"type\": \"null\"\n",
      "            }\n",
      "          ],\n",
      "          \"description\": \"Optional metadata like units, colors, or notes\",\n",
      "          \"title\": \"Metadata\"\n",
      "        }\n",
      "      },\n",
      "      \"required\": [\n",
      "        \"type\",\n",
      "        \"title\",\n",
      "        \"labels\",\n",
      "        \"values\"\n",
      "      ],\n",
      "      \"title\": \"ChartData\",\n",
      "      \"type\": \"object\"\n",
      "    }\n",
      "  },\n",
      "  \"properties\": {\n",
      "    \"charts\": {\n",
      "      \"additionalProperties\": {\n",
      "        \"$ref\": \"#/$defs/ChartData\"\n",
      "      },\n",
      "      \"description\": \"Dictionary of chart identifiers mapped to chart data\",\n",
      "      \"title\": \"Charts\",\n",
      "      \"type\": \"object\"\n",
      "    },\n",
      "    \"summary_text\": {\n",
      "      \"description\": \"Narrative summary of resume performance\",\n",
      "      \"title\": \"Summary Text\",\n",
      "      \"type\": \"string\"\n",
      "    },\n",
      "    \"improvement_highlights\": {\n",
      "      \"description\": \"Key suggestions extracted from improvement agent\",\n",
      "      \"items\": {\n",
      "        \"type\": \"string\"\n",
      "      },\n",
      "      \"title\": \"Improvement Highlights\",\n",
      "      \"type\": \"array\"\n",
      "    },\n",
      "    \"timestamp\": {\n",
      "      \"description\": \"Timestamp of visualization generation\",\n",
      "      \"title\": \"Timestamp\",\n",
      "      \"type\": \"string\"\n",
      "    }\n",
      "  },\n",
      "  \"required\": [\n",
      "    \"charts\",\n",
      "    \"summary_text\",\n",
      "    \"improvement_highlights\",\n",
      "    \"timestamp\"\n",
      "  ],\n",
      "  \"title\": \"VisualizationPayloadSchema\",\n",
      "  \"type\": \"object\"\n",
      "}\n"
     ]
    }
   ],
   "source": [
    "sch = VisualizationPayloadSchema.model_json_schema()\n",
    "print(json.dumps(sch, indent=2)[:4000])"
   ]
  }
 ],
 "metadata": {
  "kernelspec": {
   "display_name": "Python 3",
   "language": "python",
   "name": "python3"
  },
  "language_info": {
   "codemirror_mode": {
    "name": "ipython",
    "version": 3
   },
   "file_extension": ".py",
   "mimetype": "text/x-python",
   "name": "python",
   "nbconvert_exporter": "python",
   "pygments_lexer": "ipython3",
   "version": "3.12.11"
  }
 },
 "nbformat": 4,
 "nbformat_minor": 5
}
